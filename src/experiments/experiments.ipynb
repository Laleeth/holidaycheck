{
 "cells": [
  {
   "cell_type": "code",
   "execution_count": 14,
   "metadata": {},
   "outputs": [],
   "source": [
    "import pandas as pd\n",
    "import matplotlib.pyplot as plt"
   ]
  },
  {
   "cell_type": "code",
   "execution_count": 3,
   "metadata": {},
   "outputs": [],
   "source": [
    "df = pd.read_csv(\"C:/Users/thoma/Desktop/Alpha/2024/Task/src/data/1_Extract_info_justin_trudeau_articles.csv\")"
   ]
  },
  {
   "cell_type": "code",
   "execution_count": 5,
   "metadata": {},
   "outputs": [
    {
     "data": {
      "text/html": [
       "<div>\n",
       "<style scoped>\n",
       "    .dataframe tbody tr th:only-of-type {\n",
       "        vertical-align: middle;\n",
       "    }\n",
       "\n",
       "    .dataframe tbody tr th {\n",
       "        vertical-align: top;\n",
       "    }\n",
       "\n",
       "    .dataframe thead th {\n",
       "        text-align: right;\n",
       "    }\n",
       "</style>\n",
       "<table border=\"1\" class=\"dataframe\">\n",
       "  <thead>\n",
       "    <tr style=\"text-align: right;\">\n",
       "      <th></th>\n",
       "      <th>id</th>\n",
       "      <th>type</th>\n",
       "      <th>sectionId</th>\n",
       "      <th>sectionName</th>\n",
       "      <th>webPublicationDate</th>\n",
       "      <th>webTitle</th>\n",
       "      <th>webUrl</th>\n",
       "      <th>apiUrl</th>\n",
       "      <th>fields</th>\n",
       "      <th>isHosted</th>\n",
       "      <th>pillarId</th>\n",
       "      <th>pillarName</th>\n",
       "    </tr>\n",
       "  </thead>\n",
       "  <tbody>\n",
       "    <tr>\n",
       "      <th>0</th>\n",
       "      <td>business/2018/jan/23/justin-trudeau-tells-davo...</td>\n",
       "      <td>article</td>\n",
       "      <td>business</td>\n",
       "      <td>Business</td>\n",
       "      <td>2018-01-23T18:44:05Z</td>\n",
       "      <td>Justin Trudeau tells Davos: tackle inequality ...</td>\n",
       "      <td>https://www.theguardian.com/business/2018/jan/...</td>\n",
       "      <td>https://content.guardianapis.com/business/2018...</td>\n",
       "      <td>{'body': '&lt;p&gt;Canada’s prime minister, Justin T...</td>\n",
       "      <td>False</td>\n",
       "      <td>pillar/news</td>\n",
       "      <td>News</td>\n",
       "    </tr>\n",
       "    <tr>\n",
       "      <th>1</th>\n",
       "      <td>world/2018/feb/07/justin-trudeau-tells-woman-t...</td>\n",
       "      <td>article</td>\n",
       "      <td>world</td>\n",
       "      <td>World news</td>\n",
       "      <td>2018-02-07T03:42:33Z</td>\n",
       "      <td>Justin Trudeau tells woman to say 'peoplekind'...</td>\n",
       "      <td>https://www.theguardian.com/world/2018/feb/07/...</td>\n",
       "      <td>https://content.guardianapis.com/world/2018/fe...</td>\n",
       "      <td>{'body': '&lt;p&gt;The Canadian prime minister, Just...</td>\n",
       "      <td>False</td>\n",
       "      <td>pillar/news</td>\n",
       "      <td>News</td>\n",
       "    </tr>\n",
       "  </tbody>\n",
       "</table>\n",
       "</div>"
      ],
      "text/plain": [
       "                                                  id     type sectionId  \\\n",
       "0  business/2018/jan/23/justin-trudeau-tells-davo...  article  business   \n",
       "1  world/2018/feb/07/justin-trudeau-tells-woman-t...  article     world   \n",
       "\n",
       "  sectionName    webPublicationDate  \\\n",
       "0    Business  2018-01-23T18:44:05Z   \n",
       "1  World news  2018-02-07T03:42:33Z   \n",
       "\n",
       "                                            webTitle  \\\n",
       "0  Justin Trudeau tells Davos: tackle inequality ...   \n",
       "1  Justin Trudeau tells woman to say 'peoplekind'...   \n",
       "\n",
       "                                              webUrl  \\\n",
       "0  https://www.theguardian.com/business/2018/jan/...   \n",
       "1  https://www.theguardian.com/world/2018/feb/07/...   \n",
       "\n",
       "                                              apiUrl  \\\n",
       "0  https://content.guardianapis.com/business/2018...   \n",
       "1  https://content.guardianapis.com/world/2018/fe...   \n",
       "\n",
       "                                              fields  isHosted     pillarId  \\\n",
       "0  {'body': '<p>Canada’s prime minister, Justin T...     False  pillar/news   \n",
       "1  {'body': '<p>The Canadian prime minister, Just...     False  pillar/news   \n",
       "\n",
       "  pillarName  \n",
       "0       News  \n",
       "1       News  "
      ]
     },
     "execution_count": 5,
     "metadata": {},
     "output_type": "execute_result"
    }
   ],
   "source": [
    "df.head(2)"
   ]
  },
  {
   "cell_type": "code",
   "execution_count": 6,
   "metadata": {},
   "outputs": [
    {
     "name": "stdout",
     "output_type": "stream",
     "text": [
      "<class 'pandas.core.frame.DataFrame'>\n",
      "RangeIndex: 52 entries, 0 to 51\n",
      "Data columns (total 12 columns):\n",
      " #   Column              Non-Null Count  Dtype \n",
      "---  ------              --------------  ----- \n",
      " 0   id                  52 non-null     object\n",
      " 1   type                52 non-null     object\n",
      " 2   sectionId           52 non-null     object\n",
      " 3   sectionName         52 non-null     object\n",
      " 4   webPublicationDate  52 non-null     object\n",
      " 5   webTitle            52 non-null     object\n",
      " 6   webUrl              52 non-null     object\n",
      " 7   apiUrl              52 non-null     object\n",
      " 8   fields              52 non-null     object\n",
      " 9   isHosted            52 non-null     bool  \n",
      " 10  pillarId            52 non-null     object\n",
      " 11  pillarName          52 non-null     object\n",
      "dtypes: bool(1), object(11)\n",
      "memory usage: 4.6+ KB\n"
     ]
    }
   ],
   "source": [
    "df.info()"
   ]
  },
  {
   "cell_type": "code",
   "execution_count": 7,
   "metadata": {},
   "outputs": [
    {
     "data": {
      "text/plain": [
       "id                    0\n",
       "type                  0\n",
       "sectionId             0\n",
       "sectionName           0\n",
       "webPublicationDate    0\n",
       "webTitle              0\n",
       "webUrl                0\n",
       "apiUrl                0\n",
       "fields                0\n",
       "isHosted              0\n",
       "pillarId              0\n",
       "pillarName            0\n",
       "dtype: int64"
      ]
     },
     "execution_count": 7,
     "metadata": {},
     "output_type": "execute_result"
    }
   ],
   "source": [
    "df.isnull().sum()"
   ]
  },
  {
   "cell_type": "code",
   "execution_count": 9,
   "metadata": {},
   "outputs": [],
   "source": [
    "df['webPublicationDate'] = pd.to_datetime(df['webPublicationDate']).dt.strftime('%Y-%m-%d')"
   ]
  },
  {
   "cell_type": "code",
   "execution_count": 12,
   "metadata": {},
   "outputs": [
    {
     "data": {
      "text/plain": [
       "webPublicationDate\n",
       "2018-01-23    1\n",
       "2018-02-07    2\n",
       "2018-02-19    1\n",
       "2018-03-15    1\n",
       "2018-03-21    1\n",
       "2018-03-26    1\n",
       "2018-05-04    1\n",
       "2018-05-30    1\n",
       "2018-06-19    1\n",
       "2018-07-02    1\n",
       "2018-12-17    1\n",
       "2019-02-28    1\n",
       "2019-03-01    1\n",
       "2019-03-21    1\n",
       "2019-03-25    1\n",
       "2019-08-14    1\n",
       "2019-08-22    1\n",
       "2019-09-04    1\n",
       "2019-09-11    1\n",
       "2019-09-19    2\n",
       "2019-09-20    1\n",
       "2019-09-21    1\n",
       "2019-09-27    1\n",
       "2019-10-18    1\n",
       "2019-11-20    1\n",
       "2020-01-09    2\n",
       "2020-02-21    1\n",
       "2020-03-13    2\n",
       "2020-03-16    1\n",
       "2020-03-23    1\n",
       "2020-06-05    1\n",
       "2020-07-06    1\n",
       "2020-07-10    1\n",
       "2020-10-27    1\n",
       "2020-11-25    1\n",
       "2021-09-10    1\n",
       "2021-09-21    1\n",
       "2021-10-26    1\n",
       "2022-02-17    1\n",
       "2022-03-22    1\n",
       "2022-09-08    1\n",
       "2022-11-02    1\n",
       "2022-12-08    1\n",
       "2023-02-08    1\n",
       "2023-03-07    1\n",
       "2023-08-02    1\n",
       "2023-09-11    1\n",
       "2023-11-09    1\n",
       "dtype: int64"
      ]
     },
     "execution_count": 12,
     "metadata": {},
     "output_type": "execute_result"
    }
   ],
   "source": [
    "df.groupby(['webPublicationDate']).size()"
   ]
  },
  {
   "cell_type": "code",
   "execution_count": 13,
   "metadata": {},
   "outputs": [
    {
     "name": "stdout",
     "output_type": "stream",
     "text": [
      "The section with the most articles about Justin Trudeau is: world \n"
     ]
    }
   ],
   "source": [
    "df_justin_trudeau = df[df['id'].str.contains('justin-trudeau') | df['webTitle'].str.contains('Justin Trudeau', case=False)]\n",
    "most_articles_section = df_justin_trudeau['sectionId'].value_counts().idxmax()\n",
    "\n",
    "\n",
    "print(f\"The section with the most articles about Justin Trudeau is: {most_articles_section} \")"
   ]
  },
  {
   "cell_type": "code",
   "execution_count": 16,
   "metadata": {},
   "outputs": [
    {
     "data": {
      "image/png": "[encoded data removed]",
      "text/plain": [
       "<Figure size 640x480 with 1 Axes>"
      ]
     },
     "metadata": {},
     "output_type": "display_data"
    }
   ],
   "source": [
    "\n",
    "\n",
    "# Assuming df is your DataFrame containing 'id' and 'dates' columns\n",
    "plt.bar(df['webPublicationDate'], df['id'].count())\n",
    "plt.xlabel('Dates')\n",
    "plt.ylabel('Index')\n",
    "plt.title('Comparison of id and Dates')\n",
    "plt.xticks(rotation=45)\n",
    "plt.show()\n"
   ]
  },
  {
   "cell_type": "code",
   "execution_count": null,
   "metadata": {},
   "outputs": [],
   "source": []
  }
 ],
 "metadata": {
  "kernelspec": {
   "display_name": "Python 3",
   "language": "python",
   "name": "python3"
  },
  "language_info": {
   "codemirror_mode": {
    "name": "ipython",
    "version": 3
   },
   "file_extension": ".py",
   "mimetype": "text/x-python",
   "name": "python",
   "nbconvert_exporter": "python",
   "pygments_lexer": "ipython3",
   "version": "3.7.9"
  }
 },
 "nbformat": 4,
 "nbformat_minor": 2
}
